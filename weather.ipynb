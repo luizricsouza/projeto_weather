{
 "cells": [
  {
   "cell_type": "code",
   "execution_count": 113,
   "metadata": {},
   "outputs": [],
   "source": [
    "import requests\n",
    "import csv\n",
    "from elasticsearch import Elasticsearch\n",
    "from datetime import datetime\n",
    "\n",
    "api_key = \"f7cd4c26331bfcf236d32f3f23637524\"\n",
    "units = \"metric\"\n",
    "lang = \"pt_br\"\n",
    "url = \"https://api.openweathermap.org/data/2.5/weather\"\n"
   ]
  },
  {
   "cell_type": "code",
   "execution_count": 114,
   "metadata": {},
   "outputs": [
    {
     "data": {
      "text/plain": [
       "['https://api.openweathermap.org/data/2.5/weather?lat=-23.5489&lon=-46.6388&appid=f7cd4c26331bfcf236d32f3f23637524&units=metric&lang=pt_br',\n",
       " 'https://api.openweathermap.org/data/2.5/weather?lat=-23.532511704288144&lon=-46.832017223078914&appid=f7cd4c26331bfcf236d32f3f23637524&units=metric&lang=pt_br',\n",
       " 'https://api.openweathermap.org/data/2.5/weather?lat=-23.362207765565614&lon=-46.74440645891923&appid=f7cd4c26331bfcf236d32f3f23637524&units=metric&lang=pt_br']"
      ]
     },
     "execution_count": 114,
     "metadata": {},
     "output_type": "execute_result"
    }
   ],
   "source": [
    "urls_list = []\n",
    "\n",
    "with open('coordenadas_capitais_br.csv', ) as coord_csv:\n",
    "    csv_content = csv.reader(coord_csv)\n",
    "    next(csv_content)\n",
    "    for line in csv_content:\n",
    "        urls_list.append(\"{}?lat={}&lon={}&appid={}&units={}&lang={}\".format(url, line[1], line[2], api_key, units, lang))\n",
    "\n",
    "urls_list"
   ]
  },
  {
   "cell_type": "code",
   "execution_count": 115,
   "metadata": {},
   "outputs": [
    {
     "data": {
      "text/plain": [
       "[{'coord': {'lon': -46.6388, 'lat': -23.5489},\n",
       "  'weather': [{'id': 803,\n",
       "    'main': 'Clouds',\n",
       "    'description': 'nublado',\n",
       "    'icon': '04d'}],\n",
       "  'base': 'stations',\n",
       "  'main': {'temp': 29.06,\n",
       "   'feels_like': 30.68,\n",
       "   'temp_min': 27.9,\n",
       "   'temp_max': 30.01,\n",
       "   'pressure': 1018,\n",
       "   'humidity': 57},\n",
       "  'visibility': 10000,\n",
       "  'wind': {'speed': 3.09, 'deg': 240},\n",
       "  'clouds': {'all': 75},\n",
       "  'dt': 1699563880,\n",
       "  'sys': {'type': 2,\n",
       "   'id': 2082654,\n",
       "   'country': 'BR',\n",
       "   'sunrise': 1699517779,\n",
       "   'sunset': 1699565068},\n",
       "  'timezone': -10800,\n",
       "  'id': 3448439,\n",
       "  'name': 'São Paulo',\n",
       "  'cod': 200,\n",
       "  'timestamp': '2023-11-09T21:04:40'},\n",
       " {'coord': {'lon': -46.832, 'lat': -23.5325},\n",
       "  'weather': [{'id': 803,\n",
       "    'main': 'Clouds',\n",
       "    'description': 'nublado',\n",
       "    'icon': '04d'}],\n",
       "  'base': 'stations',\n",
       "  'main': {'temp': 29.3,\n",
       "   'feels_like': 31.55,\n",
       "   'temp_min': 28.49,\n",
       "   'temp_max': 29.96,\n",
       "   'pressure': 1012,\n",
       "   'humidity': 60,\n",
       "   'sea_level': 1012,\n",
       "   'grnd_level': 927},\n",
       "  'visibility': 10000,\n",
       "  'wind': {'speed': 3.84, 'deg': 155, 'gust': 5.65},\n",
       "  'clouds': {'all': 74},\n",
       "  'dt': 1699563759,\n",
       "  'sys': {'type': 2,\n",
       "   'id': 2073152,\n",
       "   'country': 'BR',\n",
       "   'sunrise': 1699517827,\n",
       "   'sunset': 1699565113},\n",
       "  'timezone': -10800,\n",
       "  'id': 3466998,\n",
       "  'name': 'Carapicuíba',\n",
       "  'cod': 200,\n",
       "  'timestamp': '2023-11-09T21:02:39'},\n",
       " {'coord': {'lon': -46.7444, 'lat': -23.3622},\n",
       "  'weather': [{'id': 804,\n",
       "    'main': 'Clouds',\n",
       "    'description': 'nublado',\n",
       "    'icon': '04d'}],\n",
       "  'base': 'stations',\n",
       "  'main': {'temp': 29.76,\n",
       "   'feels_like': 30.14,\n",
       "   'temp_min': 28.69,\n",
       "   'temp_max': 30.16,\n",
       "   'pressure': 1011,\n",
       "   'humidity': 46,\n",
       "   'sea_level': 1011,\n",
       "   'grnd_level': 930},\n",
       "  'visibility': 10000,\n",
       "  'wind': {'speed': 2.58, 'deg': 155, 'gust': 3.09},\n",
       "  'clouds': {'all': 92},\n",
       "  'dt': 1699563760,\n",
       "  'sys': {'type': 2,\n",
       "   'id': 2073152,\n",
       "   'country': 'BR',\n",
       "   'sunrise': 1699517821,\n",
       "   'sunset': 1699565077},\n",
       "  'timezone': -10800,\n",
       "  'id': 3468215,\n",
       "  'name': 'Caieiras',\n",
       "  'cod': 200,\n",
       "  'timestamp': '2023-11-09T21:02:40'}]"
      ]
     },
     "execution_count": 115,
     "metadata": {},
     "output_type": "execute_result"
    }
   ],
   "source": [
    "docs_list = []\n",
    "\n",
    "for url in urls_list:\n",
    "    req = requests.get(url)\n",
    "    doc = req.json()\n",
    "    doc['timestamp'] = datetime.utcfromtimestamp(doc['dt']).isoformat()\n",
    "    docs_list.append(doc)\n",
    "\n",
    "docs_list"
   ]
  },
  {
   "cell_type": "code",
   "execution_count": 116,
   "metadata": {},
   "outputs": [
    {
     "data": {
      "text/plain": [
       "<Elasticsearch(['http://25.63.120.33:9200'])>"
      ]
     },
     "execution_count": 116,
     "metadata": {},
     "output_type": "execute_result"
    }
   ],
   "source": [
    "es = Elasticsearch(\"http://25.63.120.33:9200/\")\n",
    "es"
   ]
  },
  {
   "cell_type": "code",
   "execution_count": 117,
   "metadata": {},
   "outputs": [
    {
     "name": "stdout",
     "output_type": "stream",
     "text": [
      "created\n",
      "created\n",
      "created\n"
     ]
    }
   ],
   "source": [
    "for doc in docs_list:\n",
    "    es_response = es.index(index=\"teste\", document=doc)\n",
    "    print(es_response['result'])"
   ]
  },
  {
   "cell_type": "code",
   "execution_count": null,
   "metadata": {},
   "outputs": [],
   "source": []
  }
 ],
 "metadata": {
  "kernelspec": {
   "display_name": "Python 3",
   "language": "python",
   "name": "python3"
  },
  "language_info": {
   "codemirror_mode": {
    "name": "ipython",
    "version": 3
   },
   "file_extension": ".py",
   "mimetype": "text/x-python",
   "name": "python",
   "nbconvert_exporter": "python",
   "pygments_lexer": "ipython3",
   "version": "3.11.3"
  }
 },
 "nbformat": 4,
 "nbformat_minor": 2
}
