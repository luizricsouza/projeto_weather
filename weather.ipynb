{
 "cells": [
  {
   "cell_type": "code",
   "execution_count": 1,
   "metadata": {},
   "outputs": [],
   "source": [
    "import requests\n",
    "import csv\n",
    "\n",
    "from elasticsearch import Elasticsearch\n",
    "from datetime import datetime\n",
    "\n",
    "api_key = \"f7cd4c26331bfcf236d32f3f23637524\"\n",
    "units = \"metric\"\n",
    "lang = \"pt_br\"\n",
    "url = \"https://api.openweathermap.org/data/2.5/weather\"\n"
   ]
  },
  {
   "cell_type": "code",
   "execution_count": 2,
   "metadata": {},
   "outputs": [
    {
     "data": {
      "text/plain": [
       "['https://api.openweathermap.org/data/2.5/weather?lat=-23.5489&lon=-46.6388&appid=f7cd4c26331bfcf236d32f3f23637524&units=metric&lang=pt_br',\n",
       " 'https://api.openweathermap.org/data/2.5/weather?lat=-23.532511704288144&lon=-46.832017223078914&appid=f7cd4c26331bfcf236d32f3f23637524&units=metric&lang=pt_br',\n",
       " 'https://api.openweathermap.org/data/2.5/weather?lat=-23.362207765565614&lon=-46.74440645891923&appid=f7cd4c26331bfcf236d32f3f23637524&units=metric&lang=pt_br']"
      ]
     },
     "execution_count": 2,
     "metadata": {},
     "output_type": "execute_result"
    }
   ],
   "source": [
    "urls_list = []\n",
    "\n",
    "with open('coordenadas_capitais_br.csv', ) as coord_csv:\n",
    "    csv_content = csv.reader(coord_csv)\n",
    "    next(csv_content)\n",
    "    for line in csv_content:\n",
    "        urls_list.append(\"{}?lat={}&lon={}&appid={}&units={}&lang={}\".format(url, line[1], line[2], api_key, units, lang))\n",
    "\n",
    "urls_list"
   ]
  },
  {
   "cell_type": "code",
   "execution_count": 3,
   "metadata": {},
   "outputs": [
    {
     "data": {
      "text/plain": [
       "[{'coord': {'lon': -46.64, 'lat': -23.55},\n",
       "  'weather': [{'id': 800,\n",
       "    'main': 'Clear',\n",
       "    'description': 'céu limpo',\n",
       "    'icon': '01d'}],\n",
       "  'base': 'stations',\n",
       "  'main': {'temp': 28.74,\n",
       "   'feels_like': 29.93,\n",
       "   'temp_min': 27.72,\n",
       "   'temp_max': 31.33,\n",
       "   'pressure': 1018,\n",
       "   'humidity': 55},\n",
       "  'visibility': 10000,\n",
       "  'wind': {'speed': 3.09, 'deg': 80},\n",
       "  'clouds': {'all': 0},\n",
       "  'dt': 1699630501,\n",
       "  'sys': {'type': 1,\n",
       "   'id': 8394,\n",
       "   'country': 'BR',\n",
       "   'sunrise': 1699604152,\n",
       "   'sunset': 1699651508},\n",
       "  'timezone': -10800,\n",
       "  'id': 3448439,\n",
       "  'name': 'São Paulo',\n",
       "  'cod': 200,\n",
       "  'timestamp': '2023-11-10T15:35:01'},\n",
       " {'coord': {'lon': -46.832, 'lat': -23.5325},\n",
       "  'weather': [{'id': 800,\n",
       "    'main': 'Clear',\n",
       "    'description': 'céu limpo',\n",
       "    'icon': '01d'}],\n",
       "  'base': 'stations',\n",
       "  'main': {'temp': 30.1,\n",
       "   'feels_like': 34.8,\n",
       "   'temp_min': 27.66,\n",
       "   'temp_max': 31.83,\n",
       "   'pressure': 1017,\n",
       "   'humidity': 68},\n",
       "  'visibility': 10000,\n",
       "  'wind': {'speed': 3.09, 'deg': 80},\n",
       "  'clouds': {'all': 0},\n",
       "  'dt': 1699630674,\n",
       "  'sys': {'type': 2,\n",
       "   'id': 2041565,\n",
       "   'country': 'BR',\n",
       "   'sunrise': 1699604200,\n",
       "   'sunset': 1699651552},\n",
       "  'timezone': -10800,\n",
       "  'id': 3466998,\n",
       "  'name': 'Carapicuíba',\n",
       "  'cod': 200,\n",
       "  'timestamp': '2023-11-10T15:37:54'},\n",
       " {'coord': {'lon': -46.7444, 'lat': -23.3622},\n",
       "  'weather': [{'id': 800,\n",
       "    'main': 'Clear',\n",
       "    'description': 'céu limpo',\n",
       "    'icon': '01d'}],\n",
       "  'base': 'stations',\n",
       "  'main': {'temp': 28.59,\n",
       "   'feels_like': 29.25,\n",
       "   'temp_min': 27.86,\n",
       "   'temp_max': 32.03,\n",
       "   'pressure': 1017,\n",
       "   'humidity': 51},\n",
       "  'visibility': 10000,\n",
       "  'wind': {'speed': 3.09, 'deg': 80},\n",
       "  'clouds': {'all': 0},\n",
       "  'dt': 1699630675,\n",
       "  'sys': {'type': 1,\n",
       "   'id': 8394,\n",
       "   'country': 'BR',\n",
       "   'sunrise': 1699604194,\n",
       "   'sunset': 1699651516},\n",
       "  'timezone': -10800,\n",
       "  'id': 3468215,\n",
       "  'name': 'Caieiras',\n",
       "  'cod': 200,\n",
       "  'timestamp': '2023-11-10T15:37:55'}]"
      ]
     },
     "execution_count": 3,
     "metadata": {},
     "output_type": "execute_result"
    }
   ],
   "source": [
    "docs_list = []\n",
    "\n",
    "for url in urls_list:\n",
    "    req = requests.get(url)\n",
    "    doc = req.json()\n",
    "    doc['timestamp'] = datetime.utcfromtimestamp(doc['dt']).isoformat()\n",
    "    docs_list.append(doc)\n",
    "\n",
    "docs_list"
   ]
  },
  {
   "cell_type": "code",
   "execution_count": 4,
   "metadata": {},
   "outputs": [
    {
     "data": {
      "text/plain": [
       "<Elasticsearch(['http://25.63.120.33:9200'])>"
      ]
     },
     "execution_count": 4,
     "metadata": {},
     "output_type": "execute_result"
    }
   ],
   "source": [
    "es = Elasticsearch(\"http://25.63.120.33:9200/\")\n",
    "es"
   ]
  },
  {
   "cell_type": "code",
   "execution_count": 5,
   "metadata": {},
   "outputs": [
    {
     "name": "stdout",
     "output_type": "stream",
     "text": [
      "created\n",
      "created\n",
      "created\n"
     ]
    }
   ],
   "source": [
    "for doc in docs_list:\n",
    "    es_response = es.index(index=\"teste\", document=doc)\n",
    "    print(es_response['result'])"
   ]
  },
  {
   "cell_type": "code",
   "execution_count": 10,
   "metadata": {},
   "outputs": [
    {
     "data": {
      "text/plain": [
       "('-23.5489', '-46.6388')"
      ]
     },
     "execution_count": 10,
     "metadata": {},
     "output_type": "execute_result"
    }
   ],
   "source": [
    "import re\n",
    "\n",
    "url = 'https://api.openweathermap.org/data/2.5/weather?lat=-23.5489&lon=-46.6388&appid=f7cd4c26331bfcf236d32f3f23637524&units=metric&lang=pt_br'\n",
    "\n",
    "lat = re.search(r'lat=([-+]?\\d*\\.\\d+|\\d+)', url).group(1)\n",
    "lon = re.search(r'lon=([-+]?\\d*\\.\\d+|\\d+)', url).group(1)\n",
    "\n",
    "lat, lon"
   ]
  },
  {
   "cell_type": "code",
   "execution_count": null,
   "metadata": {},
   "outputs": [],
   "source": []
  }
 ],
 "metadata": {
  "kernelspec": {
   "display_name": "Python 3",
   "language": "python",
   "name": "python3"
  },
  "language_info": {
   "codemirror_mode": {
    "name": "ipython",
    "version": 3
   },
   "file_extension": ".py",
   "mimetype": "text/x-python",
   "name": "python",
   "nbconvert_exporter": "python",
   "pygments_lexer": "ipython3",
   "version": "3.11.3"
  }
 },
 "nbformat": 4,
 "nbformat_minor": 2
}
